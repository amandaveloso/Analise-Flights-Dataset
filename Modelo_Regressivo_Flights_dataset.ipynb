{
  "nbformat": 4,
  "nbformat_minor": 0,
  "metadata": {
    "colab": {
      "provenance": [],
      "authorship_tag": "ABX9TyNldJ845RgeeKTUyOatc9ys",
      "include_colab_link": true
    },
    "kernelspec": {
      "name": "python3",
      "display_name": "Python 3"
    },
    "language_info": {
      "name": "python"
    }
  },
  "cells": [
    {
      "cell_type": "markdown",
      "metadata": {
        "id": "view-in-github",
        "colab_type": "text"
      },
      "source": [
        "<a href=\"https://colab.research.google.com/github/amandaveloso/Analise-Flights-Dataset/blob/main/Modelo_Regressivo_Flights_dataset.ipynb\" target=\"_parent\"><img src=\"https://colab.research.google.com/assets/colab-badge.svg\" alt=\"Open In Colab\"/></a>"
      ]
    },
    {
      "cell_type": "markdown",
      "source": [
        "Estudo dos dados de voos utilizando pandas"
      ],
      "metadata": {
        "id": "Iz0pyw0cO2ST"
      }
    },
    {
      "cell_type": "markdown",
      "source": [
        "Análise exploratoria"
      ],
      "metadata": {
        "id": "r5CIWYovPJLj"
      }
    },
    {
      "cell_type": "code",
      "execution_count": null,
      "metadata": {
        "id": "15ZFy28gef9o"
      },
      "outputs": [],
      "source": [
        "import pandas as pd\n",
        "import matplotlib.pyplot as plt\n",
        "import seaborn as sns\n",
        "import sklearn\n",
        "from sklearn.linear_model import LinearRegression\n",
        "from sklearn.metrics import mean_squared_error, r2_score\n",
        "from sklearn.model_selection import train_test_split\n",
        "from sklearn.linear_model import LogisticRegression\n",
        "from sklearn.metrics import r2_score\n",
        "from sklearn.preprocessing import StandardScaler\n",
        "from sklearn.preprocessing import StandardScaler, OneHotEncoder\n",
        "from sklearn.compose import ColumnTransformer\n",
        "from sklearn.pipeline import Pipeline\n",
        "\n",
        "# Converter a data para o timestamp Unix - número de segundos desde 1 de janeiro de 1970\n",
        "from datetime import datetime\n"
      ]
    },
    {
      "cell_type": "code",
      "source": [
        "# Leitura dos arquivos em CSV\n",
        "voos_2018 = pd.read_csv('Sample_combined_flights_2018.csv')\n",
        "voos_2019 = pd.read_csv('Sample_combined_flights_2019.csv')\n",
        "voos_2020 = pd.read_csv('Sample_combined_flights_2020.csv')\n",
        "voos_2021 = pd.read_csv('Sample_combined_flights_2021.csv')\n",
        "voos_2022 = pd.read_csv('Sample_combined_flights_2022.csv')\n",
        "airlines = pd.read_csv('Airlines.csv')"
      ],
      "metadata": {
        "id": "K7Xh93sofI5_"
      },
      "execution_count": null,
      "outputs": []
    },
    {
      "cell_type": "code",
      "source": [
        "#Concatenando os datasets\n",
        "\n",
        "df = pd.concat([voos_2018, voos_2019, voos_2020, voos_2021, voos_2022], ignore_index=True)\n",
        "df.head()"
      ],
      "metadata": {
        "colab": {
          "base_uri": "https://localhost:8080/",
          "height": 359
        },
        "id": "E2oUVQ_1fPh-",
        "outputId": "3a15fe64-b055-464b-d718-698c77f1b45a"
      },
      "execution_count": null,
      "outputs": [
        {
          "output_type": "execute_result",
          "data": {
            "text/plain": [
              "   Unnamed: 0  FlightDate            Airline Origin Dest  Cancelled  Diverted  \\\n",
              "0           0  2018-01-05  Endeavor Air Inc.    ATL  ABY      False     False   \n",
              "1           1  2018-01-14  Endeavor Air Inc.    ATL  ABY      False     False   \n",
              "2           2  2018-01-04  Endeavor Air Inc.    EWN  ATL       True     False   \n",
              "3           3  2018-01-09  Endeavor Air Inc.    FAY  ATL      False     False   \n",
              "4           4  2018-01-15  Endeavor Air Inc.    CSG  ATL      False     False   \n",
              "\n",
              "   CRSDepTime  DepTime  DepDelayMinutes  ...  WheelsOff  WheelsOn  TaxiIn  \\\n",
              "0        1037   1032.0              0.0  ...     1052.0    1121.0     3.0   \n",
              "1        1037   1031.0              0.0  ...     1047.0    1117.0     3.0   \n",
              "2        1415      NaN              NaN  ...        NaN       NaN     NaN   \n",
              "3        1853   1850.0              0.0  ...     1900.0    2004.0    17.0   \n",
              "4         615    625.0             10.0  ...      634.0     656.0     8.0   \n",
              "\n",
              "   CRSArrTime  ArrDelay  ArrDel15  ArrivalDelayGroups  ArrTimeBlk  \\\n",
              "0        1137     -13.0       0.0                -1.0   1100-1159   \n",
              "1        1137     -17.0       0.0                -2.0   1100-1159   \n",
              "2        1605       NaN       NaN                 NaN   1600-1659   \n",
              "3        2030      -9.0       0.0                -1.0   2000-2059   \n",
              "4         711      -7.0       0.0                -1.0   0700-0759   \n",
              "\n",
              "   DistanceGroup  DivAirportLandings  \n",
              "0              1                 0.0  \n",
              "1              1                 0.0  \n",
              "2              2                 0.0  \n",
              "3              2                 0.0  \n",
              "4              1                 0.0  \n",
              "\n",
              "[5 rows x 62 columns]"
            ],
            "text/html": [
              "\n",
              "  <div id=\"df-478220ca-a690-41e0-8724-b6a3c5b5248c\" class=\"colab-df-container\">\n",
              "    <div>\n",
              "<style scoped>\n",
              "    .dataframe tbody tr th:only-of-type {\n",
              "        vertical-align: middle;\n",
              "    }\n",
              "\n",
              "    .dataframe tbody tr th {\n",
              "        vertical-align: top;\n",
              "    }\n",
              "\n",
              "    .dataframe thead th {\n",
              "        text-align: right;\n",
              "    }\n",
              "</style>\n",
              "<table border=\"1\" class=\"dataframe\">\n",
              "  <thead>\n",
              "    <tr style=\"text-align: right;\">\n",
              "      <th></th>\n",
              "      <th>Unnamed: 0</th>\n",
              "      <th>FlightDate</th>\n",
              "      <th>Airline</th>\n",
              "      <th>Origin</th>\n",
              "      <th>Dest</th>\n",
              "      <th>Cancelled</th>\n",
              "      <th>Diverted</th>\n",
              "      <th>CRSDepTime</th>\n",
              "      <th>DepTime</th>\n",
              "      <th>DepDelayMinutes</th>\n",
              "      <th>...</th>\n",
              "      <th>WheelsOff</th>\n",
              "      <th>WheelsOn</th>\n",
              "      <th>TaxiIn</th>\n",
              "      <th>CRSArrTime</th>\n",
              "      <th>ArrDelay</th>\n",
              "      <th>ArrDel15</th>\n",
              "      <th>ArrivalDelayGroups</th>\n",
              "      <th>ArrTimeBlk</th>\n",
              "      <th>DistanceGroup</th>\n",
              "      <th>DivAirportLandings</th>\n",
              "    </tr>\n",
              "  </thead>\n",
              "  <tbody>\n",
              "    <tr>\n",
              "      <th>0</th>\n",
              "      <td>0</td>\n",
              "      <td>2018-01-05</td>\n",
              "      <td>Endeavor Air Inc.</td>\n",
              "      <td>ATL</td>\n",
              "      <td>ABY</td>\n",
              "      <td>False</td>\n",
              "      <td>False</td>\n",
              "      <td>1037</td>\n",
              "      <td>1032.0</td>\n",
              "      <td>0.0</td>\n",
              "      <td>...</td>\n",
              "      <td>1052.0</td>\n",
              "      <td>1121.0</td>\n",
              "      <td>3.0</td>\n",
              "      <td>1137</td>\n",
              "      <td>-13.0</td>\n",
              "      <td>0.0</td>\n",
              "      <td>-1.0</td>\n",
              "      <td>1100-1159</td>\n",
              "      <td>1</td>\n",
              "      <td>0.0</td>\n",
              "    </tr>\n",
              "    <tr>\n",
              "      <th>1</th>\n",
              "      <td>1</td>\n",
              "      <td>2018-01-14</td>\n",
              "      <td>Endeavor Air Inc.</td>\n",
              "      <td>ATL</td>\n",
              "      <td>ABY</td>\n",
              "      <td>False</td>\n",
              "      <td>False</td>\n",
              "      <td>1037</td>\n",
              "      <td>1031.0</td>\n",
              "      <td>0.0</td>\n",
              "      <td>...</td>\n",
              "      <td>1047.0</td>\n",
              "      <td>1117.0</td>\n",
              "      <td>3.0</td>\n",
              "      <td>1137</td>\n",
              "      <td>-17.0</td>\n",
              "      <td>0.0</td>\n",
              "      <td>-2.0</td>\n",
              "      <td>1100-1159</td>\n",
              "      <td>1</td>\n",
              "      <td>0.0</td>\n",
              "    </tr>\n",
              "    <tr>\n",
              "      <th>2</th>\n",
              "      <td>2</td>\n",
              "      <td>2018-01-04</td>\n",
              "      <td>Endeavor Air Inc.</td>\n",
              "      <td>EWN</td>\n",
              "      <td>ATL</td>\n",
              "      <td>True</td>\n",
              "      <td>False</td>\n",
              "      <td>1415</td>\n",
              "      <td>NaN</td>\n",
              "      <td>NaN</td>\n",
              "      <td>...</td>\n",
              "      <td>NaN</td>\n",
              "      <td>NaN</td>\n",
              "      <td>NaN</td>\n",
              "      <td>1605</td>\n",
              "      <td>NaN</td>\n",
              "      <td>NaN</td>\n",
              "      <td>NaN</td>\n",
              "      <td>1600-1659</td>\n",
              "      <td>2</td>\n",
              "      <td>0.0</td>\n",
              "    </tr>\n",
              "    <tr>\n",
              "      <th>3</th>\n",
              "      <td>3</td>\n",
              "      <td>2018-01-09</td>\n",
              "      <td>Endeavor Air Inc.</td>\n",
              "      <td>FAY</td>\n",
              "      <td>ATL</td>\n",
              "      <td>False</td>\n",
              "      <td>False</td>\n",
              "      <td>1853</td>\n",
              "      <td>1850.0</td>\n",
              "      <td>0.0</td>\n",
              "      <td>...</td>\n",
              "      <td>1900.0</td>\n",
              "      <td>2004.0</td>\n",
              "      <td>17.0</td>\n",
              "      <td>2030</td>\n",
              "      <td>-9.0</td>\n",
              "      <td>0.0</td>\n",
              "      <td>-1.0</td>\n",
              "      <td>2000-2059</td>\n",
              "      <td>2</td>\n",
              "      <td>0.0</td>\n",
              "    </tr>\n",
              "    <tr>\n",
              "      <th>4</th>\n",
              "      <td>4</td>\n",
              "      <td>2018-01-15</td>\n",
              "      <td>Endeavor Air Inc.</td>\n",
              "      <td>CSG</td>\n",
              "      <td>ATL</td>\n",
              "      <td>False</td>\n",
              "      <td>False</td>\n",
              "      <td>615</td>\n",
              "      <td>625.0</td>\n",
              "      <td>10.0</td>\n",
              "      <td>...</td>\n",
              "      <td>634.0</td>\n",
              "      <td>656.0</td>\n",
              "      <td>8.0</td>\n",
              "      <td>711</td>\n",
              "      <td>-7.0</td>\n",
              "      <td>0.0</td>\n",
              "      <td>-1.0</td>\n",
              "      <td>0700-0759</td>\n",
              "      <td>1</td>\n",
              "      <td>0.0</td>\n",
              "    </tr>\n",
              "  </tbody>\n",
              "</table>\n",
              "<p>5 rows × 62 columns</p>\n",
              "</div>\n",
              "    <div class=\"colab-df-buttons\">\n",
              "\n",
              "  <div class=\"colab-df-container\">\n",
              "    <button class=\"colab-df-convert\" onclick=\"convertToInteractive('df-478220ca-a690-41e0-8724-b6a3c5b5248c')\"\n",
              "            title=\"Convert this dataframe to an interactive table.\"\n",
              "            style=\"display:none;\">\n",
              "\n",
              "  <svg xmlns=\"http://www.w3.org/2000/svg\" height=\"24px\" viewBox=\"0 -960 960 960\">\n",
              "    <path d=\"M120-120v-720h720v720H120Zm60-500h600v-160H180v160Zm220 220h160v-160H400v160Zm0 220h160v-160H400v160ZM180-400h160v-160H180v160Zm440 0h160v-160H620v160ZM180-180h160v-160H180v160Zm440 0h160v-160H620v160Z\"/>\n",
              "  </svg>\n",
              "    </button>\n",
              "\n",
              "  <style>\n",
              "    .colab-df-container {\n",
              "      display:flex;\n",
              "      gap: 12px;\n",
              "    }\n",
              "\n",
              "    .colab-df-convert {\n",
              "      background-color: #E8F0FE;\n",
              "      border: none;\n",
              "      border-radius: 50%;\n",
              "      cursor: pointer;\n",
              "      display: none;\n",
              "      fill: #1967D2;\n",
              "      height: 32px;\n",
              "      padding: 0 0 0 0;\n",
              "      width: 32px;\n",
              "    }\n",
              "\n",
              "    .colab-df-convert:hover {\n",
              "      background-color: #E2EBFA;\n",
              "      box-shadow: 0px 1px 2px rgba(60, 64, 67, 0.3), 0px 1px 3px 1px rgba(60, 64, 67, 0.15);\n",
              "      fill: #174EA6;\n",
              "    }\n",
              "\n",
              "    .colab-df-buttons div {\n",
              "      margin-bottom: 4px;\n",
              "    }\n",
              "\n",
              "    [theme=dark] .colab-df-convert {\n",
              "      background-color: #3B4455;\n",
              "      fill: #D2E3FC;\n",
              "    }\n",
              "\n",
              "    [theme=dark] .colab-df-convert:hover {\n",
              "      background-color: #434B5C;\n",
              "      box-shadow: 0px 1px 3px 1px rgba(0, 0, 0, 0.15);\n",
              "      filter: drop-shadow(0px 1px 2px rgba(0, 0, 0, 0.3));\n",
              "      fill: #FFFFFF;\n",
              "    }\n",
              "  </style>\n",
              "\n",
              "    <script>\n",
              "      const buttonEl =\n",
              "        document.querySelector('#df-478220ca-a690-41e0-8724-b6a3c5b5248c button.colab-df-convert');\n",
              "      buttonEl.style.display =\n",
              "        google.colab.kernel.accessAllowed ? 'block' : 'none';\n",
              "\n",
              "      async function convertToInteractive(key) {\n",
              "        const element = document.querySelector('#df-478220ca-a690-41e0-8724-b6a3c5b5248c');\n",
              "        const dataTable =\n",
              "          await google.colab.kernel.invokeFunction('convertToInteractive',\n",
              "                                                    [key], {});\n",
              "        if (!dataTable) return;\n",
              "\n",
              "        const docLinkHtml = 'Like what you see? Visit the ' +\n",
              "          '<a target=\"_blank\" href=https://colab.research.google.com/notebooks/data_table.ipynb>data table notebook</a>'\n",
              "          + ' to learn more about interactive tables.';\n",
              "        element.innerHTML = '';\n",
              "        dataTable['output_type'] = 'display_data';\n",
              "        await google.colab.output.renderOutput(dataTable, element);\n",
              "        const docLink = document.createElement('div');\n",
              "        docLink.innerHTML = docLinkHtml;\n",
              "        element.appendChild(docLink);\n",
              "      }\n",
              "    </script>\n",
              "  </div>\n",
              "\n",
              "\n",
              "<div id=\"df-a812ace6-4785-4afb-803b-4f8b0db5780f\">\n",
              "  <button class=\"colab-df-quickchart\" onclick=\"quickchart('df-a812ace6-4785-4afb-803b-4f8b0db5780f')\"\n",
              "            title=\"Suggest charts\"\n",
              "            style=\"display:none;\">\n",
              "\n",
              "<svg xmlns=\"http://www.w3.org/2000/svg\" height=\"24px\"viewBox=\"0 0 24 24\"\n",
              "     width=\"24px\">\n",
              "    <g>\n",
              "        <path d=\"M19 3H5c-1.1 0-2 .9-2 2v14c0 1.1.9 2 2 2h14c1.1 0 2-.9 2-2V5c0-1.1-.9-2-2-2zM9 17H7v-7h2v7zm4 0h-2V7h2v10zm4 0h-2v-4h2v4z\"/>\n",
              "    </g>\n",
              "</svg>\n",
              "  </button>\n",
              "\n",
              "<style>\n",
              "  .colab-df-quickchart {\n",
              "      --bg-color: #E8F0FE;\n",
              "      --fill-color: #1967D2;\n",
              "      --hover-bg-color: #E2EBFA;\n",
              "      --hover-fill-color: #174EA6;\n",
              "      --disabled-fill-color: #AAA;\n",
              "      --disabled-bg-color: #DDD;\n",
              "  }\n",
              "\n",
              "  [theme=dark] .colab-df-quickchart {\n",
              "      --bg-color: #3B4455;\n",
              "      --fill-color: #D2E3FC;\n",
              "      --hover-bg-color: #434B5C;\n",
              "      --hover-fill-color: #FFFFFF;\n",
              "      --disabled-bg-color: #3B4455;\n",
              "      --disabled-fill-color: #666;\n",
              "  }\n",
              "\n",
              "  .colab-df-quickchart {\n",
              "    background-color: var(--bg-color);\n",
              "    border: none;\n",
              "    border-radius: 50%;\n",
              "    cursor: pointer;\n",
              "    display: none;\n",
              "    fill: var(--fill-color);\n",
              "    height: 32px;\n",
              "    padding: 0;\n",
              "    width: 32px;\n",
              "  }\n",
              "\n",
              "  .colab-df-quickchart:hover {\n",
              "    background-color: var(--hover-bg-color);\n",
              "    box-shadow: 0 1px 2px rgba(60, 64, 67, 0.3), 0 1px 3px 1px rgba(60, 64, 67, 0.15);\n",
              "    fill: var(--button-hover-fill-color);\n",
              "  }\n",
              "\n",
              "  .colab-df-quickchart-complete:disabled,\n",
              "  .colab-df-quickchart-complete:disabled:hover {\n",
              "    background-color: var(--disabled-bg-color);\n",
              "    fill: var(--disabled-fill-color);\n",
              "    box-shadow: none;\n",
              "  }\n",
              "\n",
              "  .colab-df-spinner {\n",
              "    border: 2px solid var(--fill-color);\n",
              "    border-color: transparent;\n",
              "    border-bottom-color: var(--fill-color);\n",
              "    animation:\n",
              "      spin 1s steps(1) infinite;\n",
              "  }\n",
              "\n",
              "  @keyframes spin {\n",
              "    0% {\n",
              "      border-color: transparent;\n",
              "      border-bottom-color: var(--fill-color);\n",
              "      border-left-color: var(--fill-color);\n",
              "    }\n",
              "    20% {\n",
              "      border-color: transparent;\n",
              "      border-left-color: var(--fill-color);\n",
              "      border-top-color: var(--fill-color);\n",
              "    }\n",
              "    30% {\n",
              "      border-color: transparent;\n",
              "      border-left-color: var(--fill-color);\n",
              "      border-top-color: var(--fill-color);\n",
              "      border-right-color: var(--fill-color);\n",
              "    }\n",
              "    40% {\n",
              "      border-color: transparent;\n",
              "      border-right-color: var(--fill-color);\n",
              "      border-top-color: var(--fill-color);\n",
              "    }\n",
              "    60% {\n",
              "      border-color: transparent;\n",
              "      border-right-color: var(--fill-color);\n",
              "    }\n",
              "    80% {\n",
              "      border-color: transparent;\n",
              "      border-right-color: var(--fill-color);\n",
              "      border-bottom-color: var(--fill-color);\n",
              "    }\n",
              "    90% {\n",
              "      border-color: transparent;\n",
              "      border-bottom-color: var(--fill-color);\n",
              "    }\n",
              "  }\n",
              "</style>\n",
              "\n",
              "  <script>\n",
              "    async function quickchart(key) {\n",
              "      const quickchartButtonEl =\n",
              "        document.querySelector('#' + key + ' button');\n",
              "      quickchartButtonEl.disabled = true;  // To prevent multiple clicks.\n",
              "      quickchartButtonEl.classList.add('colab-df-spinner');\n",
              "      try {\n",
              "        const charts = await google.colab.kernel.invokeFunction(\n",
              "            'suggestCharts', [key], {});\n",
              "      } catch (error) {\n",
              "        console.error('Error during call to suggestCharts:', error);\n",
              "      }\n",
              "      quickchartButtonEl.classList.remove('colab-df-spinner');\n",
              "      quickchartButtonEl.classList.add('colab-df-quickchart-complete');\n",
              "    }\n",
              "    (() => {\n",
              "      let quickchartButtonEl =\n",
              "        document.querySelector('#df-a812ace6-4785-4afb-803b-4f8b0db5780f button');\n",
              "      quickchartButtonEl.style.display =\n",
              "        google.colab.kernel.accessAllowed ? 'block' : 'none';\n",
              "    })();\n",
              "  </script>\n",
              "</div>\n",
              "\n",
              "    </div>\n",
              "  </div>\n"
            ]
          },
          "metadata": {},
          "execution_count": 112
        }
      ]
    },
    {
      "cell_type": "code",
      "source": [
        "# Unindo com o nome da companhia aérea (aqruivo \"Airlines\")\n",
        "merged_flights = pd.merge(df, airlines, left_on='IATA_Code_Marketing_Airline', right_on='Code', how='left')"
      ],
      "metadata": {
        "id": "DIgTsygs9hB6"
      },
      "execution_count": null,
      "outputs": []
    },
    {
      "cell_type": "code",
      "source": [
        "# Filtrando os voos que não foram cancelados nem desviados, para fins de regressão linear (0  = não)\n",
        "filtered_flights = merged_flights[(merged_flights['Cancelled'] == 0) & (merged_flights['Diverted'] == 0)]\n",
        "filtered_flights = filtered_flights.dropna()"
      ],
      "metadata": {
        "id": "GGTTYue59sjI"
      },
      "execution_count": null,
      "outputs": []
    },
    {
      "cell_type": "code",
      "source": [
        "# Converter a data para o timestamp Unix\n",
        "filtered_flights['FlightDate'] = filtered_flights['FlightDate'].apply(lambda x: datetime.strptime(x, '%Y-%m-%d').timestamp())\n"
      ],
      "metadata": {
        "id": "Wt0Sz-O3gBfS"
      },
      "execution_count": null,
      "outputs": []
    },
    {
      "cell_type": "code",
      "source": [
        "# Convertendo os dados para números inteiros\n",
        "filtered_flights['FlightDate'] = filtered_flights['FlightDate'].astype('int64')\n",
        "filtered_flights['AirTime'] = filtered_flights['AirTime'].astype('int64')\n",
        "filtered_flights['ArrDel15'] = filtered_flights['ArrDel15'].astype('int64')"
      ],
      "metadata": {
        "id": "fyrASjuQ-T8u"
      },
      "execution_count": null,
      "outputs": []
    },
    {
      "cell_type": "code",
      "source": [
        "# Criando variáveis Dummy para os meses\n",
        "dummy_months = pd.get_dummies(filtered_flights['Month'], prefix='Month')\n",
        "\n",
        "filtered_flights = pd.concat([filtered_flights, dummy_months], axis=1)"
      ],
      "metadata": {
        "id": "1d_vX6Bn-cD0"
      },
      "execution_count": null,
      "outputs": []
    },
    {
      "cell_type": "code",
      "source": [
        "# normalizando os dados utilizando Standart Scaler\n",
        "scaler = StandardScaler()\n",
        "X_scaled = scaler.fit_transform(X)"
      ],
      "metadata": {
        "id": "iGIAPs5ICAEf"
      },
      "execution_count": null,
      "outputs": []
    },
    {
      "cell_type": "markdown",
      "source": [
        "###`TESTE RL `"
      ],
      "metadata": {
        "id": "nFCbCKBEFcBT"
      }
    },
    {
      "cell_type": "code",
      "source": [
        "import pandas as pd\n",
        "from sklearn.model_selection import train_test_split\n",
        "from sklearn.linear_model import LinearRegression\n",
        "from sklearn.metrics import mean_squared_error, r2_score, mean_absolute_error\n",
        "from sklearn.preprocessing import StandardScaler, OneHotEncoder\n",
        "from sklearn.compose import ColumnTransformer\n",
        "from sklearn.pipeline import Pipeline\n",
        "\n",
        "features = ['CRSElapsedTime', 'Distance', 'DistanceGroup', 'CRSDepTime', 'CRSArrTime',\n",
        "            'DayOfWeek', 'Month', 'Operating_Airline', 'Flight_Number_Operating_Airline', 'OriginAirportID',\n",
        "            'DestAirportID']\n",
        "\n",
        "X = filtered_flights[features]\n",
        "y = filtered_flights['ArrDel15']\n",
        "\n",
        "# Divisão dos dados em conjunto de treino e teste\n",
        "X_train, X_test, y_train, y_test = train_test_split(X, y, test_size=0.3, random_state=42)\n",
        "\n",
        "# Transformação dos dados\n",
        "numeric_features = ['CRSElapsedTime', 'Distance', 'CRSDepTime', 'CRSArrTime']\n",
        "categorical_features = ['DistanceGroup', 'DayOfWeek', 'Month', 'Operating_Airline',\n",
        "                        'Flight_Number_Operating_Airline', 'OriginAirportID', 'DestAirportID']\n",
        "\n",
        "numeric_transformer = StandardScaler()\n",
        "categorical_transformer = OneHotEncoder(handle_unknown='ignore')\n",
        "\n",
        "preprocessor = ColumnTransformer(\n",
        "    transformers=[\n",
        "        ('num', numeric_transformer, numeric_features),\n",
        "        ('cat', categorical_transformer, categorical_features)\n",
        "    ])\n",
        "\n",
        "# Criando um pipeline com a transformação e o modelo\n",
        "model = Pipeline(steps=[\n",
        "    ('preprocessor', preprocessor),\n",
        "    ('regressor', LinearRegression())\n",
        "])\n",
        "\n",
        "# Treinando o modelo\n",
        "model.fit(X_train, y_train)\n",
        "\n",
        "# Fazendo previsões\n",
        "y_pred = model.predict(X_test)\n",
        "\n",
        "# Avaliando o modelo\n",
        "r2_test = r2_score(y_test, y_pred)\n",
        "mse_test = mean_squared_error(y_test, y_pred)\n",
        "\n",
        "print(f\"R² do modelo (teste): {r2_test}\")\n",
        "print(f\"MSE do modelo (teste): {mse_test}\")\n",
        "\n",
        "# Avaliação no conjunto de treino\n",
        "y_pred_train = model.predict(X_train)\n",
        "r2_train = r2_score(y_train, y_pred_train)\n",
        "mae_train = mean_absolute_error(y_train, y_pred_train)\n",
        "\n",
        "print(f'R² do modelo (treino): {r2_train}')\n",
        "print(f'MAE (Mean Absolute Error) do modelo (treino): {mae_train}')"
      ],
      "metadata": {
        "colab": {
          "base_uri": "https://localhost:8080/"
        },
        "id": "q1wp549zLhtx",
        "outputId": "549d5a88-ec69-43aa-f9cc-6a90839c8634"
      },
      "execution_count": null,
      "outputs": [
        {
          "output_type": "stream",
          "name": "stdout",
          "text": [
            "R² do modelo (teste): 0.0006637371159567973\n",
            "MSE do modelo (teste): 0.14586185362948412\n",
            "R² do modelo (treino): 0.0763884361102688\n",
            "MAE (Mean Absolute Error) do modelo (treino): 0.27217390426510313\n"
          ]
        }
      ]
    },
    {
      "cell_type": "markdown",
      "source": [
        "## Modelo de regressão linear"
      ],
      "metadata": {
        "id": "OhgFDT1Q-ild"
      }
    },
    {
      "cell_type": "code",
      "source": [
        "filtered_flights.columns"
      ],
      "metadata": {
        "colab": {
          "base_uri": "https://localhost:8080/"
        },
        "id": "zfTtrZcYDqlL",
        "outputId": "c6d2100b-d00b-4d88-8301-74922f25ca74"
      },
      "execution_count": null,
      "outputs": [
        {
          "output_type": "execute_result",
          "data": {
            "text/plain": [
              "Index(['Unnamed: 0', 'FlightDate', 'Airline', 'Origin', 'Dest', 'Cancelled',\n",
              "       'Diverted', 'CRSDepTime', 'DepTime', 'DepDelayMinutes', 'DepDelay',\n",
              "       'ArrTime', 'ArrDelayMinutes', 'AirTime', 'CRSElapsedTime',\n",
              "       'ActualElapsedTime', 'Distance', 'Year', 'Quarter', 'Month',\n",
              "       'DayofMonth', 'DayOfWeek', 'Marketing_Airline_Network',\n",
              "       'Operated_or_Branded_Code_Share_Partners', 'DOT_ID_Marketing_Airline',\n",
              "       'IATA_Code_Marketing_Airline', 'Flight_Number_Marketing_Airline',\n",
              "       'Operating_Airline', 'DOT_ID_Operating_Airline',\n",
              "       'IATA_Code_Operating_Airline', 'Tail_Number',\n",
              "       'Flight_Number_Operating_Airline', 'OriginAirportID',\n",
              "       'OriginAirportSeqID', 'OriginCityMarketID', 'OriginCityName',\n",
              "       'OriginState', 'OriginStateFips', 'OriginStateName', 'OriginWac',\n",
              "       'DestAirportID', 'DestAirportSeqID', 'DestCityMarketID', 'DestCityName',\n",
              "       'DestState', 'DestStateFips', 'DestStateName', 'DestWac', 'DepDel15',\n",
              "       'DepartureDelayGroups', 'DepTimeBlk', 'TaxiOut', 'WheelsOff',\n",
              "       'WheelsOn', 'TaxiIn', 'CRSArrTime', 'ArrDelay', 'ArrDel15',\n",
              "       'ArrivalDelayGroups', 'ArrTimeBlk', 'DistanceGroup',\n",
              "       'DivAirportLandings', 'Code', 'Description'],\n",
              "      dtype='object')"
            ]
          },
          "metadata": {},
          "execution_count": 116
        }
      ]
    },
    {
      "cell_type": "code",
      "source": [
        "features = ['CRSDepTime', 'CRSArrTime', 'Distance', 'Operating_Airline', 'Origin', 'Dest']\n",
        "X = filtered_flights[features]\n",
        "y = filtered_flights['ArrDel15']"
      ],
      "metadata": {
        "id": "cvwXTTRm-hU9"
      },
      "execution_count": null,
      "outputs": []
    },
    {
      "cell_type": "code",
      "source": [
        "X_train, X_test, y_train, y_test = train_test_split(X_scaled, y, test_size=0.3, random_state=42)\n"
      ],
      "metadata": {
        "id": "dMqe4QHA_XHP"
      },
      "execution_count": null,
      "outputs": []
    },
    {
      "cell_type": "code",
      "source": [
        "numeric_features = ['CRSDepTime', 'CRSArrTime', 'Distance']\n",
        "categorical_features = ['Operating_Airline', 'Origin', 'Dest']\n",
        "\n",
        "numeric_transformer = StandardScaler()\n",
        "categorical_transformer = OneHotEncoder(handle_unknown='ignore')\n",
        "\n",
        "preprocessor = ColumnTransformer(\n",
        "    transformers=[\n",
        "        ('num', numeric_transformer, numeric_features),\n",
        "        ('cat', categorical_transformer, categorical_features)\n",
        "    ])"
      ],
      "metadata": {
        "id": "o6PfmVwFEdh_"
      },
      "execution_count": null,
      "outputs": []
    },
    {
      "cell_type": "code",
      "source": [
        "model = LinearRegression()\n",
        "model.fit(X_train, y_train)\n",
        "y_pred = model.predict(X_test)"
      ],
      "metadata": {
        "id": "31GMoDUEE16C"
      },
      "execution_count": null,
      "outputs": []
    },
    {
      "cell_type": "code",
      "source": [
        "model = LinearRegression()\n",
        "model.fit(X_train, y_train)\n",
        "y_pred = model.predict(X_test)\n",
        "\n",
        "\n",
        "# Avaliando o modelo\n",
        "r2 = r2_score(y_test, y_pred)\n",
        "mse = mean_squared_error(y_test, y_pred)\n",
        "\n",
        "print(f\"R² do modelo: {r2}\")\n",
        "print(f\"MSE do modelo: {mse}\")"
      ],
      "metadata": {
        "colab": {
          "base_uri": "https://localhost:8080/"
        },
        "id": "qyzYa6PG-5Fh",
        "outputId": "45a5df93-7169-45f8-fd6f-9262b8805719"
      },
      "execution_count": null,
      "outputs": [
        {
          "output_type": "stream",
          "name": "stdout",
          "text": [
            "R² do modelo: 0.0030587649008418927\n",
            "MSE do modelo: 0.1455122784112395\n"
          ]
        }
      ]
    },
    {
      "cell_type": "code",
      "source": [
        "model.coef_"
      ],
      "metadata": {
        "colab": {
          "base_uri": "https://localhost:8080/"
        },
        "id": "OEhXOLtMAX9n",
        "outputId": "28509a7e-5e59-4217-c92f-e853ba075838"
      },
      "execution_count": null,
      "outputs": [
        {
          "output_type": "execute_result",
          "data": {
            "text/plain": [
              "array([-2.45246203e-05, -1.90002504e-04, -4.83907110e-11, -3.78089101e-05,\n",
              "        1.87549179e-04, -3.94660620e-06,  4.31191415e-05])"
            ]
          },
          "metadata": {},
          "execution_count": 97
        }
      ]
    },
    {
      "cell_type": "code",
      "source": [
        "model.score(X, y)"
      ],
      "metadata": {
        "colab": {
          "base_uri": "https://localhost:8080/"
        },
        "id": "VaxVzDlxAaHL",
        "outputId": "9cb26f07-94a8-4c55-9350-06298084451a"
      },
      "execution_count": null,
      "outputs": [
        {
          "output_type": "execute_result",
          "data": {
            "text/plain": [
              "0.0026837108264599063"
            ]
          },
          "metadata": {},
          "execution_count": 99
        }
      ]
    },
    {
      "cell_type": "code",
      "source": [
        "from sklearn.metrics import mean_absolute_error, r2_score\n",
        "y_pred_train = model.predict(X_train)\n",
        "\n",
        "mae = mean_absolute_error(y_train, y_pred_train)\n",
        "r2 = r2_score(y_train, y_pred_train)\n",
        "\n",
        "print(f'MAE (Mean Absolute Error): {mae}')\n",
        "print(f'R²: {r2}')"
      ],
      "metadata": {
        "colab": {
          "base_uri": "https://localhost:8080/"
        },
        "id": "LtQ5tV8Y_tj_",
        "outputId": "9267bb87-3958-450a-ccd2-3538b824938b"
      },
      "execution_count": null,
      "outputs": [
        {
          "output_type": "stream",
          "name": "stdout",
          "text": [
            "MAE (Mean Absolute Error): 0.29117601445604563\n",
            "R²: 0.0025229695230302163\n"
          ]
        }
      ]
    },
    {
      "cell_type": "markdown",
      "source": [
        "## Modelo de regressão logística"
      ],
      "metadata": {
        "id": "JMrwWB1WljwW"
      }
    },
    {
      "cell_type": "code",
      "source": [
        "features = ['OriginWac', 'DestWac', 'FlightDate', 'Month', 'AirTime', 'DOT_ID_Operating_Airline', 'DOT_ID_Marketing_Airline']\n",
        "X = features\n",
        "y = df['ArrDel15']"
      ],
      "metadata": {
        "id": "K1ykcX-0fhSu"
      },
      "execution_count": null,
      "outputs": []
    },
    {
      "cell_type": "code",
      "source": [
        "X_train, X_test, y_train, y_test = train_test_split(X, y, test_size=0.30)"
      ],
      "metadata": {
        "id": "QtFFnAAulB63"
      },
      "execution_count": null,
      "outputs": []
    },
    {
      "cell_type": "code",
      "source": [
        "model = LogisticRegression()\n",
        "model.fit(X, y)"
      ],
      "metadata": {
        "colab": {
          "base_uri": "https://localhost:8080/",
          "height": 74
        },
        "id": "24zf7-Vufiri",
        "outputId": "38e7c66b-1169-4ed4-e9c3-b8810ccd0f7c"
      },
      "execution_count": null,
      "outputs": [
        {
          "output_type": "execute_result",
          "data": {
            "text/plain": [
              "LinearRegression()"
            ],
            "text/html": [
              "<style>#sk-container-id-3 {color: black;background-color: white;}#sk-container-id-3 pre{padding: 0;}#sk-container-id-3 div.sk-toggleable {background-color: white;}#sk-container-id-3 label.sk-toggleable__label {cursor: pointer;display: block;width: 100%;margin-bottom: 0;padding: 0.3em;box-sizing: border-box;text-align: center;}#sk-container-id-3 label.sk-toggleable__label-arrow:before {content: \"▸\";float: left;margin-right: 0.25em;color: #696969;}#sk-container-id-3 label.sk-toggleable__label-arrow:hover:before {color: black;}#sk-container-id-3 div.sk-estimator:hover label.sk-toggleable__label-arrow:before {color: black;}#sk-container-id-3 div.sk-toggleable__content {max-height: 0;max-width: 0;overflow: hidden;text-align: left;background-color: #f0f8ff;}#sk-container-id-3 div.sk-toggleable__content pre {margin: 0.2em;color: black;border-radius: 0.25em;background-color: #f0f8ff;}#sk-container-id-3 input.sk-toggleable__control:checked~div.sk-toggleable__content {max-height: 200px;max-width: 100%;overflow: auto;}#sk-container-id-3 input.sk-toggleable__control:checked~label.sk-toggleable__label-arrow:before {content: \"▾\";}#sk-container-id-3 div.sk-estimator input.sk-toggleable__control:checked~label.sk-toggleable__label {background-color: #d4ebff;}#sk-container-id-3 div.sk-label input.sk-toggleable__control:checked~label.sk-toggleable__label {background-color: #d4ebff;}#sk-container-id-3 input.sk-hidden--visually {border: 0;clip: rect(1px 1px 1px 1px);clip: rect(1px, 1px, 1px, 1px);height: 1px;margin: -1px;overflow: hidden;padding: 0;position: absolute;width: 1px;}#sk-container-id-3 div.sk-estimator {font-family: monospace;background-color: #f0f8ff;border: 1px dotted black;border-radius: 0.25em;box-sizing: border-box;margin-bottom: 0.5em;}#sk-container-id-3 div.sk-estimator:hover {background-color: #d4ebff;}#sk-container-id-3 div.sk-parallel-item::after {content: \"\";width: 100%;border-bottom: 1px solid gray;flex-grow: 1;}#sk-container-id-3 div.sk-label:hover label.sk-toggleable__label {background-color: #d4ebff;}#sk-container-id-3 div.sk-serial::before {content: \"\";position: absolute;border-left: 1px solid gray;box-sizing: border-box;top: 0;bottom: 0;left: 50%;z-index: 0;}#sk-container-id-3 div.sk-serial {display: flex;flex-direction: column;align-items: center;background-color: white;padding-right: 0.2em;padding-left: 0.2em;position: relative;}#sk-container-id-3 div.sk-item {position: relative;z-index: 1;}#sk-container-id-3 div.sk-parallel {display: flex;align-items: stretch;justify-content: center;background-color: white;position: relative;}#sk-container-id-3 div.sk-item::before, #sk-container-id-3 div.sk-parallel-item::before {content: \"\";position: absolute;border-left: 1px solid gray;box-sizing: border-box;top: 0;bottom: 0;left: 50%;z-index: -1;}#sk-container-id-3 div.sk-parallel-item {display: flex;flex-direction: column;z-index: 1;position: relative;background-color: white;}#sk-container-id-3 div.sk-parallel-item:first-child::after {align-self: flex-end;width: 50%;}#sk-container-id-3 div.sk-parallel-item:last-child::after {align-self: flex-start;width: 50%;}#sk-container-id-3 div.sk-parallel-item:only-child::after {width: 0;}#sk-container-id-3 div.sk-dashed-wrapped {border: 1px dashed gray;margin: 0 0.4em 0.5em 0.4em;box-sizing: border-box;padding-bottom: 0.4em;background-color: white;}#sk-container-id-3 div.sk-label label {font-family: monospace;font-weight: bold;display: inline-block;line-height: 1.2em;}#sk-container-id-3 div.sk-label-container {text-align: center;}#sk-container-id-3 div.sk-container {/* jupyter's `normalize.less` sets `[hidden] { display: none; }` but bootstrap.min.css set `[hidden] { display: none !important; }` so we also need the `!important` here to be able to override the default hidden behavior on the sphinx rendered scikit-learn.org. See: https://github.com/scikit-learn/scikit-learn/issues/21755 */display: inline-block !important;position: relative;}#sk-container-id-3 div.sk-text-repr-fallback {display: none;}</style><div id=\"sk-container-id-3\" class=\"sk-top-container\"><div class=\"sk-text-repr-fallback\"><pre>LinearRegression()</pre><b>In a Jupyter environment, please rerun this cell to show the HTML representation or trust the notebook. <br />On GitHub, the HTML representation is unable to render, please try loading this page with nbviewer.org.</b></div><div class=\"sk-container\" hidden><div class=\"sk-item\"><div class=\"sk-estimator sk-toggleable\"><input class=\"sk-toggleable__control sk-hidden--visually\" id=\"sk-estimator-id-3\" type=\"checkbox\" checked><label for=\"sk-estimator-id-3\" class=\"sk-toggleable__label sk-toggleable__label-arrow\">LinearRegression</label><div class=\"sk-toggleable__content\"><pre>LinearRegression()</pre></div></div></div></div></div>"
            ]
          },
          "metadata": {},
          "execution_count": 62
        }
      ]
    },
    {
      "cell_type": "code",
      "source": [
        "previsao = model.predict(X_test)\n"
      ],
      "metadata": {
        "id": "fRVVIwkUfpGs"
      },
      "execution_count": null,
      "outputs": []
    },
    {
      "cell_type": "code",
      "source": [
        "# Calcular a AUC\n",
        "roc_auc_score = (y_test, y_pred[:, 1])\n",
        "auc = roc_auc_score\n",
        "\n",
        "print('AUC:', auc)"
      ],
      "metadata": {
        "colab": {
          "base_uri": "https://localhost:8080/",
          "height": 245
        },
        "id": "LrjW7gX4tUc_",
        "outputId": "6191bdb6-c326-4b1e-ebdc-612608604a01"
      },
      "execution_count": null,
      "outputs": [
        {
          "output_type": "error",
          "ename": "NameError",
          "evalue": "ignored",
          "traceback": [
            "\u001b[0;31m---------------------------------------------------------------------------\u001b[0m",
            "\u001b[0;31mNameError\u001b[0m                                 Traceback (most recent call last)",
            "\u001b[0;32m<ipython-input-74-4846fbfc8b8f>\u001b[0m in \u001b[0;36m<cell line: 2>\u001b[0;34m()\u001b[0m\n\u001b[1;32m      1\u001b[0m \u001b[0;31m# Calcular a AUC\u001b[0m\u001b[0;34m\u001b[0m\u001b[0;34m\u001b[0m\u001b[0m\n\u001b[0;32m----> 2\u001b[0;31m \u001b[0mroc_auc_score\u001b[0m \u001b[0;34m=\u001b[0m \u001b[0;34m(\u001b[0m\u001b[0my_test\u001b[0m\u001b[0;34m,\u001b[0m \u001b[0my_pred\u001b[0m\u001b[0;34m[\u001b[0m\u001b[0;34m:\u001b[0m\u001b[0;34m,\u001b[0m \u001b[0;36m1\u001b[0m\u001b[0;34m]\u001b[0m\u001b[0;34m)\u001b[0m\u001b[0;34m\u001b[0m\u001b[0;34m\u001b[0m\u001b[0m\n\u001b[0m\u001b[1;32m      3\u001b[0m \u001b[0mauc\u001b[0m \u001b[0;34m=\u001b[0m \u001b[0mroc_auc_score\u001b[0m\u001b[0;34m\u001b[0m\u001b[0;34m\u001b[0m\u001b[0m\n\u001b[1;32m      4\u001b[0m \u001b[0;34m\u001b[0m\u001b[0m\n\u001b[1;32m      5\u001b[0m \u001b[0mprint\u001b[0m\u001b[0;34m(\u001b[0m\u001b[0;34m'AUC:'\u001b[0m\u001b[0;34m,\u001b[0m \u001b[0mauc\u001b[0m\u001b[0;34m)\u001b[0m\u001b[0;34m\u001b[0m\u001b[0;34m\u001b[0m\u001b[0m\n",
            "\u001b[0;31mNameError\u001b[0m: name 'y_pred' is not defined"
          ]
        }
      ]
    },
    {
      "cell_type": "markdown",
      "source": [
        "# Testando o modelo"
      ],
      "metadata": {
        "id": "wqYSXSkztVV4"
      }
    },
    {
      "cell_type": "code",
      "source": [
        "#Lista de códigos de Destino\n",
        "df['DestWac'].unique()"
      ],
      "metadata": {
        "colab": {
          "base_uri": "https://localhost:8080/"
        },
        "id": "GWks5ETJtJh6",
        "outputId": "13087251-3b57-4655-dce4-316872cbecda"
      },
      "execution_count": null,
      "outputs": [
        {
          "output_type": "execute_result",
          "data": {
            "text/plain": [
              "array([34, 43, 13, 41, 22, 63, 64, 54, 52, 38, 36, 74,  3, 21, 91, 33, 81,\n",
              "       92, 44, 61, 51, 15, 65, 23, 71, 37, 45, 85, 83,  2, 72, 93, 84, 66,\n",
              "       82, 87, 42,  5, 35,  4, 88, 73, 67, 14, 62, 11, 86, 53,  1, 12, 16,\n",
              "       39, 31])"
            ]
          },
          "metadata": {},
          "execution_count": 71
        }
      ]
    },
    {
      "cell_type": "code",
      "source": [
        "# Função para receber dados de entrada e fazer uma previsão\n",
        "def prever_atraso(dest_wac, flight_date):\n",
        "\n",
        "    # Criar um DataFrame com as entradas\n",
        "    entrada = pd.DataFrame({'DestWac': [dest_wac], 'FlightDate': [flight_date]})\n",
        "\n",
        "    # Fazer a previsão\n",
        "    previsão = model.predict(entrada)\n",
        "\n",
        "    # Interpretar a previsão\n",
        "    if previsão > 0:\n",
        "        print('Haverá atraso')\n",
        "    else:\n",
        "        print('Não haverá atraso')\n",
        "\n",
        "\n"
      ],
      "metadata": {
        "id": "v_S_yESlhXsZ"
      },
      "execution_count": null,
      "outputs": []
    },
    {
      "cell_type": "code",
      "source": [
        "# Testar a função\n",
        "prever_atraso(dest_wac=1, flight_date='2023-07-20')"
      ],
      "metadata": {
        "id": "Q2zXtNXRtN3u"
      },
      "execution_count": null,
      "outputs": []
    }
  ]
}